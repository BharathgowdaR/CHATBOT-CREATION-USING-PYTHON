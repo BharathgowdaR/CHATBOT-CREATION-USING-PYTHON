{
 "cells": [
  {
   "cell_type": "code",
   "execution_count": 1,
   "id": "71c6303f",
   "metadata": {},
   "outputs": [],
   "source": [
    "list_words=['viruz','Microsoft','handuclean','feeeevvvveerrrr','facemaskk','sanitized/dry','First']\n",
    "corrected=[]"
   ]
  },
  {
   "cell_type": "code",
   "execution_count": 5,
   "id": "6e5c67de",
   "metadata": {},
   "outputs": [],
   "source": [
    "\n",
    "\n",
    "#!pip install wordninja\n",
    "import wordninja\n",
    "import spacy \n",
    "\n",
    "from collections import Counter\n",
    "import re"
   ]
  },
  {
   "cell_type": "code",
   "execution_count": 6,
   "id": "0dd823f2",
   "metadata": {},
   "outputs": [
    {
     "name": "stdout",
     "output_type": "stream",
     "text": [
      "List of remaining words \n",
      " viruz Microsoft handuclean feeeevvvveerrrr facemaskk sanitized/dry First\n",
      "List of correct words \n",
      "\n"
     ]
    }
   ],
   "source": [
    "print('List of remaining words \\n',*list_words)\n",
    "print('List of correct words \\n',*corrected)"
   ]
  },
  {
   "cell_type": "code",
   "execution_count": 9,
   "id": "039270d9",
   "metadata": {},
   "outputs": [],
   "source": [
    "#word ninja algorithm\n",
    "def ninja(list_words):\n",
    "  array1=[]\n",
    "\n",
    "  for q in range(len(list_words)):\n",
    "      splits=wordninja.split(list_words[q])\n",
    "    \n",
    "      for i in range(len(splits)):\n",
    "        if(len(splits[i])>2):\n",
    "          array1.append(splits[i])\n",
    "        \n",
    "  print(\"Tokens after splitting strings:\",*array1)\n",
    "        \n",
    "  return array1"
   ]
  },
  {
   "cell_type": "code",
   "execution_count": 10,
   "id": "c8565d5f",
   "metadata": {},
   "outputs": [
    {
     "name": "stdout",
     "output_type": "stream",
     "text": [
      "Tokens after splitting strings: ruz Microsoft hand clean eeee vvv veer rrr facemask sanitized dry First\n"
     ]
    }
   ],
   "source": [
    "list_words=ninja(list_words)"
   ]
  },
  {
   "cell_type": "code",
   "execution_count": 11,
   "id": "000ec6fb",
   "metadata": {},
   "outputs": [],
   "source": [
    "final_check=list(spell.unknown(list_words))\n",
    "for i in list_words:\n",
    "    if(i not in final_check):\n",
    "        list_words.remove(i)\n",
    "        \n",
    "corrected.extend(list_words)\n",
    "list_words=final_check"
   ]
  },
  {
   "cell_type": "code",
   "execution_count": 12,
   "id": "9db57ba4",
   "metadata": {},
   "outputs": [
    {
     "name": "stdout",
     "output_type": "stream",
     "text": [
      "List of remaining words \n",
      " eeee vvv ruz rrr\n",
      "List of correct words \n",
      " ruz hand eeee vvv rrr sanitized First\n"
     ]
    }
   ],
   "source": [
    "print('List of remaining words \\n',*final_check)\n",
    "print('List of correct words \\n',*corrected)"
   ]
  }
 ],
 "metadata": {
  "kernelspec": {
   "display_name": "Python 3 (ipykernel)",
   "language": "python",
   "name": "python3"
  },
  "language_info": {
   "codemirror_mode": {
    "name": "ipython",
    "version": 3
   },
   "file_extension": ".py",
   "mimetype": "text/x-python",
   "name": "python",
   "nbconvert_exporter": "python",
   "pygments_lexer": "ipython3",
   "version": "3.9.12"
  }
 },
 "nbformat": 4,
 "nbformat_minor": 5
}
